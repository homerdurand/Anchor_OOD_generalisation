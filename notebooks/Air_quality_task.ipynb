{
 "cells": [
  {
   "cell_type": "code",
   "execution_count": 9,
   "metadata": {},
   "outputs": [],
   "source": [
    "import numpy as np\n",
    "import pandas as pd\n",
    "from MVA_algo import *\n",
    "from AnchorOptimalProjector import *\n",
    "from sklearn.linear_model import LinearRegression, RidgeCV, MultiTaskLassoCV\n",
    "from tqdm import tqdm\n",
    "from matplotlib import pyplot as plt\n",
    "from itertools import permutations\n",
    "from sklearn.model_selection import ParameterGrid\n",
    "from sklearn.metrics import mean_squared_error, r2_score\n",
    "import torch\n",
    "from IRM_ICP import InvariantRiskMinimization, InvariantCausalPrediction\n",
    "from IRM import IRMLinearRegression, IRMLinearRegression2\n",
    "from CVP import CVPLinearRegression, CVPLinearRegression2\n",
    "from sklearn.cross_decomposition import PLSRegression\n",
    "from HRM import HRMLinearRegression"
   ]
  },
  {
   "cell_type": "code",
   "execution_count": 2,
   "metadata": {},
   "outputs": [],
   "source": [
    "data = pd.read_csv('../data/Air_Quality.csv')"
   ]
  },
  {
   "cell_type": "code",
   "execution_count": 3,
   "metadata": {},
   "outputs": [],
   "source": [
    "data_cleaned = data.loc[:, ~data.columns.str.contains('^Unnamed')][:9357]\n",
    "data_cleaned['Date'] = pd.to_datetime(data_cleaned['Date'], format='%d/%m/%Y')\n",
    "\n",
    "# Define a function to map month to season\n",
    "def get_season(month):\n",
    "    if month in [12, 1, 2]:\n",
    "        return 0  # Winter\n",
    "    elif month in [3, 4, 5]:\n",
    "        return 1  # Spring\n",
    "    elif month in [6, 7, 8]:\n",
    "        return 2  # Summer\n",
    "    elif month in [9, 10, 11]:\n",
    "        return 3  # Autumn\n",
    "\n",
    "# Apply the function to extract the season\n",
    "data_cleaned['Season'] = data_cleaned['Date'].dt.month.map(get_season)"
   ]
  },
  {
   "cell_type": "code",
   "execution_count": 4,
   "metadata": {},
   "outputs": [],
   "source": [
    "Y = data_cleaned[['CO(GT)',\t'PT08.S1(CO)',\t'NMHC(GT)',\t'C6H6(GT)',\t'PT08.S2(NMHC)',\t'NOx(GT)',\t'PT08.S3(NOx)',\t'NO2(GT)',\t'PT08.S4(NO2)',\t'PT08.S5(O3)']].to_numpy()\n",
    "A = data_cleaned['Season'].to_numpy()[:, None]\n",
    "X = data_cleaned[['T', 'RH', 'AH']].to_numpy()"
   ]
  },
  {
   "cell_type": "code",
   "execution_count": 5,
   "metadata": {},
   "outputs": [],
   "source": [
    "Y = (Y - Y.mean(axis=0))/Y.std(axis=0)\n",
    "X = (X - X.mean(axis=0))/X.std(axis=0)"
   ]
  },
  {
   "cell_type": "code",
   "execution_count": 6,
   "metadata": {},
   "outputs": [],
   "source": [
    "idx_train = (A==0)[:, 0]\n",
    "idx_val = ((A==3) | (A==1))[:, 0]\n",
    "idx_test = (A==2)[:, 0]\n",
    "X_train, X_test, X_val = X[idx_train, :], X[idx_test.T, :], X[idx_val, :]\n",
    "A_train, A_test, A_val = A[idx_train, :], A[idx_test.T, :], A[idx_val, :]\n",
    "Y_train, Y_test, Y_val = Y[idx_train, :], Y[idx_test.T, :], Y[idx_val, :]"
   ]
  },
  {
   "cell_type": "code",
   "execution_count": 10,
   "metadata": {},
   "outputs": [
    {
     "name": "stderr",
     "output_type": "stream",
     "text": [
      "  0%|          | 0/24 [00:00<?, ?it/s]"
     ]
    },
    {
     "name": "stderr",
     "output_type": "stream",
     "text": [
      "  0%|          | 0/24 [00:18<?, ?it/s]\n"
     ]
    },
    {
     "ename": "TypeError",
     "evalue": "expected Tensor as element 1 in argument 0, but got numpy.ndarray",
     "output_type": "error",
     "traceback": [
      "\u001b[0;31m---------------------------------------------------------------------------\u001b[0m",
      "\u001b[0;31mTypeError\u001b[0m                                 Traceback (most recent call last)",
      "Cell \u001b[0;32mIn[10], line 99\u001b[0m\n\u001b[1;32m     97\u001b[0m \u001b[38;5;28;01mfor\u001b[39;00m ncp \u001b[38;5;129;01min\u001b[39;00m n_groups:\n\u001b[1;32m     98\u001b[0m     cvp_model \u001b[38;5;241m=\u001b[39m CVPLinearRegression2(input_dim, output_dim, lambda_cvp\u001b[38;5;241m=\u001b[39mtheta, n_epochs\u001b[38;5;241m=\u001b[39mn_epochs, learning_rate\u001b[38;5;241m=\u001b[39mlearning_rate, patience\u001b[38;5;241m=\u001b[39mpatience, tol\u001b[38;5;241m=\u001b[39m\u001b[38;5;241m1e-4\u001b[39m, n_groups\u001b[38;5;241m=\u001b[39mncp, verbose\u001b[38;5;241m=\u001b[39m\u001b[38;5;28;01mFalse\u001b[39;00m)\n\u001b[0;32m---> 99\u001b[0m     \u001b[43mcvp_model\u001b[49m\u001b[38;5;241;43m.\u001b[39;49m\u001b[43mfit\u001b[49m\u001b[43m(\u001b[49m\u001b[43mX_train\u001b[49m\u001b[43m,\u001b[49m\u001b[43m \u001b[49m\u001b[43mY_train\u001b[49m\u001b[43m,\u001b[49m\u001b[43m \u001b[49m\u001b[43mA_train\u001b[49m\u001b[43m[\u001b[49m\u001b[43m:\u001b[49m\u001b[43m,\u001b[49m\u001b[43m \u001b[49m\u001b[38;5;241;43m0\u001b[39;49m\u001b[43m]\u001b[49m\u001b[43m)\u001b[49m\n\u001b[1;32m    100\u001b[0m     sklearn_model \u001b[38;5;241m=\u001b[39m cvp_model\u001b[38;5;241m.\u001b[39mset_sklearn_model()\n\u001b[1;32m    101\u001b[0m     Y_pred \u001b[38;5;241m=\u001b[39m sklearn_model\u001b[38;5;241m.\u001b[39mpredict(X_val)\n",
      "File \u001b[0;32m~/Documents/Projects/Anchor_models/anchor_regularizedMVA/notebooks/CVP.py:242\u001b[0m, in \u001b[0;36mCVPLinearRegression2.fit\u001b[0;34m(self, X_train, Y_train, envs_train)\u001b[0m\n\u001b[1;32m    239\u001b[0m \u001b[38;5;28mself\u001b[39m\u001b[38;5;241m.\u001b[39moptimizer\u001b[38;5;241m.\u001b[39mzero_grad()\n\u001b[1;32m    241\u001b[0m \u001b[38;5;66;03m# Compute the CVP loss\u001b[39;00m\n\u001b[0;32m--> 242\u001b[0m loss \u001b[38;5;241m=\u001b[39m \u001b[38;5;28;43mself\u001b[39;49m\u001b[38;5;241;43m.\u001b[39;49m\u001b[43mcvp_loss_kmeans\u001b[49m\u001b[43m(\u001b[49m\u001b[43mX_tensor\u001b[49m\u001b[43m,\u001b[49m\u001b[43m \u001b[49m\u001b[43mY_tensor\u001b[49m\u001b[43m,\u001b[49m\u001b[43m \u001b[49m\u001b[43menvs_train\u001b[49m\u001b[43m)\u001b[49m\n\u001b[1;32m    244\u001b[0m \u001b[38;5;66;03m# Backpropagate\u001b[39;00m\n\u001b[1;32m    245\u001b[0m loss\u001b[38;5;241m.\u001b[39mbackward()\n",
      "File \u001b[0;32m~/Documents/Projects/Anchor_models/anchor_regularizedMVA/notebooks/CVP.py:211\u001b[0m, in \u001b[0;36mCVPLinearRegression2.cvp_loss_kmeans\u001b[0;34m(self, X, Y, envs, n_groups)\u001b[0m\n\u001b[1;32m    208\u001b[0m group_labels \u001b[38;5;241m=\u001b[39m torch\u001b[38;5;241m.\u001b[39mtensor(group_labels, dtype\u001b[38;5;241m=\u001b[39mtorch\u001b[38;5;241m.\u001b[39mlong, device\u001b[38;5;241m=\u001b[39mY\u001b[38;5;241m.\u001b[39mdevice)  \u001b[38;5;66;03m# Convert back to tensor\u001b[39;00m\n\u001b[1;32m    210\u001b[0m \u001b[38;5;66;03m# Unique (group, env) combinations\u001b[39;00m\n\u001b[0;32m--> 211\u001b[0m unique_combinations \u001b[38;5;241m=\u001b[39m torch\u001b[38;5;241m.\u001b[39munique(\u001b[43mtorch\u001b[49m\u001b[38;5;241;43m.\u001b[39;49m\u001b[43mstack\u001b[49m\u001b[43m(\u001b[49m\u001b[43m[\u001b[49m\u001b[43mgroup_labels\u001b[49m\u001b[43m,\u001b[49m\u001b[43m \u001b[49m\u001b[43menvs\u001b[49m\u001b[43m]\u001b[49m\u001b[43m)\u001b[49m, dim\u001b[38;5;241m=\u001b[39m\u001b[38;5;241m1\u001b[39m)\n\u001b[1;32m    213\u001b[0m \u001b[38;5;66;03m# Conditional variance regularization\u001b[39;00m\n\u001b[1;32m    214\u001b[0m \u001b[38;5;28;01mfor\u001b[39;00m group, env \u001b[38;5;129;01min\u001b[39;00m unique_combinations\u001b[38;5;241m.\u001b[39mt():\n",
      "\u001b[0;31mTypeError\u001b[0m: expected Tensor as element 1 in argument 0, but got numpy.ndarray"
     ]
    }
   ],
   "source": [
    "gammas = np.logspace(-10, 10, 10)\n",
    "lambdas = np.logspace(-3, 3, 10)\n",
    "thetas = np.logspace(-3, 3, 10)\n",
    "alphas = np.logspace(-10, 10, 10)\n",
    "deltas = np.logspace(-10, 10, 10)\n",
    "patience = 200\n",
    "n_epochs = 50000\n",
    "learning_rate = 0.03\n",
    "n_components = [1, 2, 3]\n",
    "score, score_ar, score_irm, score_hrm, score_cvp, score_pls_ar, score_ridge = [], [], [], [], [], [], []\n",
    "seasons = np.array([0, 1, 2, 3])\n",
    "combinations = list(permutations(seasons, 3))  # All train-val-test splits\n",
    "lr = LinearRegression()\n",
    "for train_season, val_season, test_season in tqdm(combinations):\n",
    "    idx = [i not in list(permutations([0,1,2, 3], 3))[0] for i in np.array([0,1,2, 3])]\n",
    "    val_season2 = seasons[idx]\n",
    "    idx_train = (A==train_season | (A==val_season2))[:, 0]\n",
    "    idx_val = (A==val_season)[:, 0]\n",
    "    idx_test = (A==test_season)[:, 0]\n",
    "    X_train, X_test, X_val = X[idx_train, :], X[idx_test.T, :], X[idx_val, :]\n",
    "    A_train, A_test, A_val = A[idx_train, :], A[idx_test.T, :], A[idx_val, :]\n",
    "    Y_train, Y_test, Y_val = Y[idx_train, :], Y[idx_test.T, :], Y[idx_val, :]\n",
    "\n",
    "    # Selecting gamma opt\n",
    "    \n",
    "    mse_scores_ar = []\n",
    "    for gamma in gammas:\n",
    "        aop = AnchorOptimalProjection(gamma=gamma)\n",
    "        X_anchor, Y_anchor = aop.fit_transform(A_train, X_train, Y_train)\n",
    "        lr.fit(X_anchor, Y_anchor)\n",
    "        Y_pred = lr.predict(X_val)\n",
    "        mse_scores_ar.append(mean_squared_error(Y_val, Y_pred))\n",
    "    gamma_opt = gammas[np.argmin(mse_scores_ar)]\n",
    "\n",
    "    # gamma and ncp opt\n",
    "    mse_scores_pls_ar = []\n",
    "    for gamma in gammas:\n",
    "        mse_scores_for_gamma = []\n",
    "        for ncp in n_components:\n",
    "            aop = AnchorOptimalProjection(gamma=gamma)\n",
    "            X_anchor, Y_anchor = aop.fit_transform(A_train, X_train, Y_train)\n",
    "            pls = PLSRegression(n_components=ncp)\n",
    "            pls.fit(X_anchor, Y_anchor)\n",
    "            Y_pred = pls.predict(X_val)\n",
    "            mse = mean_squared_error(Y_val, Y_pred)\n",
    "            mse_scores_for_gamma.append(mse)\n",
    "        mse_scores_pls_ar.append(mse_scores_for_gamma)\n",
    "    mse_scores_pls_ar = np.array(mse_scores_pls_ar)\n",
    "    best_gamma_idx, best_ncp_idx = np.unravel_index(np.argmin(mse_scores_pls_ar), mse_scores_pls_ar.shape)\n",
    "    gamma_opt_pls = gammas[best_gamma_idx]\n",
    "    ncp_opt = n_components[best_ncp_idx]\n",
    "\n",
    "    # alpha opt ridge\n",
    "    mse_scores_ridge = []\n",
    "    for alpha in alphas:\n",
    "        ridge = Ridge(alpha=alpha)\n",
    "        ridge.fit(X_train, Y_train)\n",
    "        Y_pred = ridge.predict(X_val)\n",
    "        mse_scores_ridge.append(mean_squared_error(Y_val, Y_pred))\n",
    "    alpha_opt = alphas[np.argmin(mse_scores_ridge)]\n",
    "\n",
    "\n",
    "    #  Selecting lambda opt for IRM\n",
    "    input_dim = X_train.shape[1]\n",
    "    output_dim = Y_train.shape[1]\n",
    "    mse_scores_irm = []\n",
    "    for l in lambdas:\n",
    "        irm_model = IRMLinearRegression2(input_dim, output_dim, lambda_irm=l, n_epochs=n_epochs, learning_rate=learning_rate, patience=patience, tol=1e-4, verbose=False)\n",
    "        irm_model.fit(X_train, Y_train, A_train[:, 0])\n",
    "        Y_pred = irm_model.predict(X_val)\n",
    "        mse_scores_irm.append(mean_squared_error(Y_val, Y_val))\n",
    "    lambda_opt = lambdas[np.argmin(mse_scores_irm)]\n",
    "\n",
    "    # selecting theta opt for CVP\n",
    "    mse_scores_cvp = []\n",
    "    for theta in thetas:\n",
    "        cvp_model = CVPLinearRegression(input_dim, output_dim, lambda_cvp=theta, n_epochs=n_epochs, learning_rate=learning_rate, patience=patience, tol=1e-4, verbose=False)\n",
    "        cvp_model.fit(X_train, Y_train, A_train[:, 0])\n",
    "        sklearn_model = cvp_model.set_sklearn_model()\n",
    "        Y_pred = sklearn_model.predict(X_val)\n",
    "        mse_scores_cvp.append(mean_squared_error(Y_val, Y_val))\n",
    "    theta_opt = thetas[np.argmin(mse_scores_cvp)]\n",
    "\n",
    "    # selecting delta opt for HRM\n",
    "    # mse_scores_hrm = []\n",
    "    # for delta in deltas:\n",
    "    #     hrm_model = HRMLinearRegression(input_dim, output_dim, lambda_hrm=delta, n_epochs=n_epochs, learning_rate=learning_rate, patience=patience, tol=1e-4, verbose=False)\n",
    "    #     cvp_model.fit(X_train, Y_train, A_train[:, 0])\n",
    "    #     Y_pred = hrm_model.predict(X_val)\n",
    "    #     mse_scores_hrm.append(mean_squared_error(Y_val, Y_val))\n",
    "    # delta_opt = deltas[np.argmin(mse_scores_hrm)]\n",
    "    \n",
    "    # Train test split\n",
    "    # idx_train = ((A==train_season) | (A==val_season2) | (A==val_season))[:, 0]\n",
    "    # X_train, X_test = X[idx_train, :], X[idx_test.T, :]\n",
    "    # A_train, A_test = A[idx_train, :], A[idx_test.T, :]\n",
    "    # Y_train, Y_test = Y[idx_train, :], Y[idx_test.T, :]\n",
    "\n",
    "    # optimal anchor regression\n",
    "    aop = AnchorOptimalProjection(gamma=gamma_opt)\n",
    "    X_anchor, Y_anchor = aop.fit_transform(A_train, X_train, Y_train)\n",
    "    lr.fit(X_anchor, Y_anchor)\n",
    "    Y_pred = lr.predict(X_test)\n",
    "    score_ar.append(mean_squared_error(Y_test, Y_pred))\n",
    "\n",
    "    # optimal anchor PLS\n",
    "    aop = AnchorOptimalProjection(gamma=gamma_opt_pls)\n",
    "    X_anchor, Y_anchor = aop.fit_transform(A_train, X_train, Y_train)\n",
    "    pls = PLSRegression(n_components=ncp_opt)\n",
    "    pls.fit(X_anchor, Y_anchor)\n",
    "    Y_pred = pls.predict(X_test)\n",
    "    score_pls_ar.append(mean_squared_error(Y_test, Y_pred))\n",
    "\n",
    "    # optimal IRM regression\n",
    "    irm_model = IRMLinearRegression2(input_dim, output_dim, lambda_irm=lambda_opt, n_epochs=n_epochs, learning_rate=learning_rate, patience=patience, tol=1e-4, verbose=False)\n",
    "    irm_model.fit(X_train, Y_train, A_train[:, 0])\n",
    "    Y_pred = irm_model.predict(X_test)\n",
    "    score_irm.append(mean_squared_error(Y_test, Y_pred))\n",
    "\n",
    "    # optimal HRM regression\n",
    "    hrm_model = HRMLinearRegression(input_dim, output_dim, lambda_hrm=delta_opt, n_epochs=n_epochs, learning_rate=learning_rate, patience=patience, tol=1e-4, verbose=False)\n",
    "    hrm_model.fit(X_train, Y_train, A_train[:, 0])\n",
    "    Y_pred = hrm_model.predict(X_test)\n",
    "    score_hrm.append(mean_squared_error(Y_test, Y_pred))\n",
    "\n",
    "    # optimal CVP regression\n",
    "    cvp_model = CVPLinearRegression(input_dim, output_dim, lambda_cvp=theta_opt, n_epochs=n_epochs, learning_rate=learning_rate, patience=patience, tol=1e-4, verbose=False)\n",
    "    cvp_model.fit(X_train, Y_train, A_train[:, 0])\n",
    "    sklearn_model = cvp_model.set_sklearn_model()\n",
    "    Y_pred = sklearn_model.predict(X_test)\n",
    "    score_cvp.append(mean_squared_error(Y_test, Y_pred))\n",
    "\n",
    "    lr.fit(X_train, Y_train)\n",
    "    Y_pred = lr.predict(X_test)\n",
    "    score.append(mean_squared_error(Y_test, Y_pred))\n",
    "\n",
    "    ridge = Ridge(alpha=alpha_opt)\n",
    "    ridge.fit(X_train, Y_train)\n",
    "    Y_pred = ridge.predict(X_test)\n",
    "    score_ridge.append(mean_squared_error(Y_test, Y_pred))\n",
    "    \n",
    "    "
   ]
  },
  {
   "cell_type": "code",
   "execution_count": null,
   "metadata": {},
   "outputs": [
    {
     "name": "stderr",
     "output_type": "stream",
     "text": [
      "No artists with labels found to put in legend.  Note that artists whose label start with an underscore are ignored when legend() is called with no argument.\n"
     ]
    },
    {
     "data": {
      "image/png": "[encoded data removed]",
      "text/plain": [
       "<Figure size 640x480 with 1 Axes>"
      ]
     },
     "metadata": {},
     "output_type": "display_data"
    }
   ],
   "source": [
    "df = pd.DataFrame(np.array([score_irm, score_cvp, score_ridge, score, score_ar, score_pls_ar]).T, columns=['IRM', 'CVP', 'Ridge', 'LR', 'AR', 'A-PLS'])\n",
    "df.boxplot()\n",
    "plt.ylabel('Mean Squared Error')\n",
    "plt.legend()\n",
    "plt.show()"
   ]
  },
  {
   "cell_type": "code",
   "execution_count": null,
   "metadata": {},
   "outputs": [
    {
     "name": "stdout",
     "output_type": "stream",
     "text": [
      "|       |   Mean MSE |   Median MSE |   Max MSE |   Min MSE |   Better than LR |\n",
      "|:------|-----------:|-------------:|----------:|----------:|-----------------:|\n",
      "| IRM   |   0.686253 |     0.728511 |  0.857703 |  0.489722 |               20 |\n",
      "| CVP   |   0.814105 |     0.79024  |  1.17661  |  0.576044 |               21 |\n",
      "| Ridge |   0.767386 |     0.730688 |  1.006    |  0.526444 |               18 |\n",
      "| LR    |   0.821291 |     0.791441 |  1.21461  |  0.578454 |                0 |\n",
      "| AR    |   0.778622 |     0.738854 |  1.21461  |  0.505814 |               16 |\n",
      "| A-PLS |   0.722477 |     0.725128 |  0.993102 |  0.478632 |               22 |\n"
     ]
    }
   ],
   "source": [
    "# Initialize result dictionary\n",
    "result = {}\n",
    "\n",
    "# Reference column for comparison\n",
    "reference_column = 'LR'\n",
    "\n",
    "# Determine the algorithm performing best in each row\n",
    "best_counts = (df.eq(df.min(axis=1), axis=0)).sum()\n",
    "\n",
    "# Calculate statistics and comparison\n",
    "for algorithm in df.columns:\n",
    "    mean_mse = df[algorithm].mean()\n",
    "    median_mse = df[algorithm].median()\n",
    "    max_mse = df[algorithm].max()\n",
    "    min_mse = df[algorithm].min()\n",
    "    better_than_lr = (df[algorithm] < df[reference_column]).sum()\n",
    "    best_performance = best_counts[algorithm]\n",
    "\n",
    "    result[algorithm] = {\n",
    "        'Mean MSE': mean_mse,\n",
    "        'Median MSE': median_mse,\n",
    "        'Max MSE': max_mse,\n",
    "        'Min MSE': min_mse,\n",
    "        'Better than LR': better_than_lr    }\n",
    "\n",
    "# Convert result dictionary to a DataFrame\n",
    "result_df = pd.DataFrame(result).T\n",
    "\n",
    "# Convert to markdown\n",
    "markdown_table = result_df.to_markdown()\n",
    "\n",
    "print(markdown_table)"
   ]
  },
  {
   "cell_type": "code",
   "execution_count": null,
   "metadata": {},
   "outputs": [],
   "source": []
  }
 ],
 "metadata": {
  "kernelspec": {
   "display_name": "Python 3",
   "language": "python",
   "name": "python3"
  },
  "language_info": {
   "codemirror_mode": {
    "name": "ipython",
    "version": 3
   },
   "file_extension": ".py",
   "mimetype": "text/x-python",
   "name": "python",
   "nbconvert_exporter": "python",
   "pygments_lexer": "ipython3",
   "version": "3.9.19"
  }
 },
 "nbformat": 4,
 "nbformat_minor": 2
}
